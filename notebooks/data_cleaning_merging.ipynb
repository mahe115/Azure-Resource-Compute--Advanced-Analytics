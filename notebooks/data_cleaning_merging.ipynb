{
 "cells": [
  {
   "cell_type": "code",
   "execution_count": 1,
   "id": "2b595e89",
   "metadata": {},
   "outputs": [],
   "source": [
    "import pandas as pd"
   ]
  },
  {
   "cell_type": "code",
   "execution_count": 2,
   "id": "180de3e2",
   "metadata": {},
   "outputs": [],
   "source": [
    "azure_usage = pd.read_csv('C:\\\\Users\\\\vince\\\\Project_Azure\\\\data\\\\raw\\\\azure_usage.csv')\n",
    "external_factors = pd.read_csv('C:\\\\Users\\\\vince\\\\Project_Azure\\\\data\\\\raw\\\\external_factors.csv')\n"
   ]
  },
  {
   "cell_type": "code",
   "execution_count": 3,
   "id": "e43be502",
   "metadata": {},
   "outputs": [
    {
     "name": "stderr",
     "output_type": "stream",
     "text": [
      "C:\\Users\\vince\\AppData\\Local\\Temp\\ipykernel_13928\\5327672.py:1: FutureWarning: Series.fillna with 'method' is deprecated and will raise in a future version. Use obj.ffill() or obj.bfill() instead.\n",
      "  azure_usage['usage_storage'] = azure_usage['usage_storage'].fillna(method='ffill')\n"
     ]
    }
   ],
   "source": [
    "azure_usage['usage_storage'] = azure_usage['usage_storage'].fillna(method='ffill')"
   ]
  },
  {
   "cell_type": "code",
   "execution_count": 4,
   "id": "71cedf1a",
   "metadata": {},
   "outputs": [
    {
     "name": "stdout",
     "output_type": "stream",
     "text": [
      "Missing values after fill:\n",
      "date             0\n",
      "region           0\n",
      "resource_type    0\n",
      "usage_cpu        0\n",
      "usage_storage    0\n",
      "users_active     0\n",
      "dtype: int64\n"
     ]
    }
   ],
   "source": [
    "print(\"Missing values after fill:\")\n",
    "print(azure_usage.isnull().sum())"
   ]
  },
  {
   "cell_type": "code",
   "execution_count": 5,
   "id": "30d3187d",
   "metadata": {},
   "outputs": [],
   "source": [
    "merged = pd.merge(azure_usage, external_factors, on='date')"
   ]
  },
  {
   "cell_type": "code",
   "execution_count": 6,
   "id": "7fe8c94d",
   "metadata": {},
   "outputs": [],
   "source": [
    "merged.to_csv('C:\\\\Users\\\\vince\\\\Project_Azure\\\\data\\\\processed\\\\cleaned_merged.csv', index=False)"
   ]
  },
  {
   "cell_type": "code",
   "execution_count": 7,
   "id": "ae98ba4d",
   "metadata": {},
   "outputs": [
    {
     "name": "stdout",
     "output_type": "stream",
     "text": [
      "Merged data info:\n",
      "<class 'pandas.core.frame.DataFrame'>\n",
      "RangeIndex: 1080 entries, 0 to 1079\n",
      "Data columns (total 9 columns):\n",
      " #   Column               Non-Null Count  Dtype  \n",
      "---  ------               --------------  -----  \n",
      " 0   date                 1080 non-null   object \n",
      " 1   region               1080 non-null   object \n",
      " 2   resource_type        1080 non-null   object \n",
      " 3   usage_cpu            1080 non-null   int64  \n",
      " 4   usage_storage        1080 non-null   int64  \n",
      " 5   users_active         1080 non-null   int64  \n",
      " 6   economic_index       1080 non-null   float64\n",
      " 7   cloud_market_demand  1080 non-null   float64\n",
      " 8   holiday              1080 non-null   int64  \n",
      "dtypes: float64(2), int64(4), object(3)\n",
      "memory usage: 76.1+ KB\n",
      "None\n",
      "         date   region resource_type  usage_cpu  usage_storage  users_active  \\\n",
      "0  2023-01-01  East US            VM         88           1959           470   \n",
      "1  2023-01-01  East US       Storage         92           1595           388   \n",
      "2  2023-01-01  East US     Container         70            621           414   \n",
      "3  2023-01-01  West US            VM         60           1982           287   \n",
      "4  2023-01-01  West US       Storage         85           1371           351   \n",
      "\n",
      "   economic_index  cloud_market_demand  holiday  \n",
      "0          104.97                 0.99        1  \n",
      "1          104.97                 0.99        1  \n",
      "2          104.97                 0.99        1  \n",
      "3          104.97                 0.99        1  \n",
      "4          104.97                 0.99        1  \n"
     ]
    }
   ],
   "source": [
    "print(\"Merged data info:\")\n",
    "print(merged.info())\n",
    "print(merged.head())"
   ]
  },
  {
   "cell_type": "code",
   "execution_count": null,
   "id": "d2dbdd21",
   "metadata": {},
   "outputs": [],
   "source": []
  }
 ],
 "metadata": {
  "kernelspec": {
   "display_name": "env",
   "language": "python",
   "name": "python3"
  },
  "language_info": {
   "codemirror_mode": {
    "name": "ipython",
    "version": 3
   },
   "file_extension": ".py",
   "mimetype": "text/x-python",
   "name": "python",
   "nbconvert_exporter": "python",
   "pygments_lexer": "ipython3",
   "version": "3.13.5"
  }
 },
 "nbformat": 4,
 "nbformat_minor": 5
}
