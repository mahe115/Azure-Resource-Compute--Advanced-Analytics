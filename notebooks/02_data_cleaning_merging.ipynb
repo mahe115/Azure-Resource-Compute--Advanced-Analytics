{
 "cells": [
  {
   "metadata": {
    "ExecuteTime": {
     "end_time": "2025-08-25T10:43:42.399068Z",
     "start_time": "2025-08-25T10:43:40.742558Z"
    }
   },
   "cell_type": "code",
   "source": "import pandas as pd",
   "id": "5850fe96bf55b63c",
   "outputs": [],
   "execution_count": 2
  },
  {
   "metadata": {},
   "cell_type": "markdown",
   "source": "loading the raw data",
   "id": "260d3618ffe92f90"
  },
  {
   "metadata": {
    "ExecuteTime": {
     "end_time": "2025-08-25T10:44:55.231995Z",
     "start_time": "2025-08-25T10:44:55.198922Z"
    }
   },
   "cell_type": "code",
   "source": [
    "azure_df = pd.read_csv(\"../data/raw/azure_usage.csv\")\n",
    "external_df = pd.read_csv(\"../data/raw/external_factors.csv\")"
   ],
   "id": "a41f0a1cb888a8b8",
   "outputs": [],
   "execution_count": 3
  },
  {
   "metadata": {},
   "cell_type": "markdown",
   "source": "date conversion",
   "id": "e5b71126b7298cb"
  },
  {
   "metadata": {
    "ExecuteTime": {
     "end_time": "2025-08-25T10:45:33.772796Z",
     "start_time": "2025-08-25T10:45:33.751602Z"
    }
   },
   "cell_type": "code",
   "source": [
    "azure_df['date'] = pd.to_datetime(azure_df['date'])\n",
    "external_df['date'] = pd.to_datetime(external_df['date'])"
   ],
   "id": "b322b66fd26cf24f",
   "outputs": [],
   "execution_count": 4
  },
  {
   "metadata": {},
   "cell_type": "markdown",
   "source": "**DATA CLEANING**",
   "id": "10483bb05bf1187a"
  },
  {
   "metadata": {},
   "cell_type": "markdown",
   "source": "handling missing values",
   "id": "5cae9cc4ef01efaa"
  },
  {
   "metadata": {
    "ExecuteTime": {
     "end_time": "2025-08-25T10:51:46.496187Z",
     "start_time": "2025-08-25T10:51:46.461291Z"
    }
   },
   "cell_type": "code",
   "source": [
    "for col in ['usage_cpu','usage_storage','users_active']:\n",
    "    azure_df[col] = azure_df[col].fillna(azure_df[col].median())\n",
    "\n",
    "for col in ['region','resource_type']:\n",
    "    azure_df[col] = azure_df[col].fillna(azure_df[col].mode()[0])"
   ],
   "id": "e98197220bf322e",
   "outputs": [],
   "execution_count": 6
  },
  {
   "metadata": {},
   "cell_type": "markdown",
   "source": "**Cleaning External Data**",
   "id": "2a6d2ee2b3dcd041"
  },
  {
   "metadata": {
    "ExecuteTime": {
     "end_time": "2025-08-25T10:56:31.333295Z",
     "start_time": "2025-08-25T10:56:31.323764Z"
    }
   },
   "cell_type": "code",
   "source": [
    "external_df['economic_index'] = external_df['economic_index'].ffill()\n",
    "external_df['cloud_market_demand'] = external_df['cloud_market_demand'].ffill()\n",
    "external_df['holiday'] = external_df['holiday'].fillna(0)"
   ],
   "id": "681307070ecd0b97",
   "outputs": [],
   "execution_count": 8
  },
  {
   "metadata": {},
   "cell_type": "markdown",
   "source": "**Merging the Data**",
   "id": "2d9b925e32a260d8"
  },
  {
   "metadata": {
    "ExecuteTime": {
     "end_time": "2025-08-25T10:57:59.863942Z",
     "start_time": "2025-08-25T10:57:59.824910Z"
    }
   },
   "cell_type": "code",
   "source": "merged_df = pd.merge(azure_df,external_df,on='date',how='left')",
   "id": "2d71912159876cb9",
   "outputs": [],
   "execution_count": 9
  },
  {
   "metadata": {},
   "cell_type": "markdown",
   "source": "saving the merged data",
   "id": "64e14d451b09c237"
  },
  {
   "metadata": {
    "ExecuteTime": {
     "end_time": "2025-08-25T10:59:27.620654Z",
     "start_time": "2025-08-25T10:59:27.578065Z"
    }
   },
   "cell_type": "code",
   "source": "merged_df.to_csv(\"../data/processed/cleaned_merged.csv\",index=False)",
   "id": "ffbf866f7dc5bc24",
   "outputs": [],
   "execution_count": 10
  }
 ],
 "metadata": {
  "kernelspec": {
   "display_name": "Python (env)",
   "language": "python",
   "name": "env"
  },
  "language_info": {
   "codemirror_mode": {
    "name": "ipython",
    "version": 2
   },
   "file_extension": ".py",
   "mimetype": "text/x-python",
   "name": "python",
   "nbconvert_exporter": "python",
   "pygments_lexer": "ipython2",
   "version": "2.7.6"
  }
 },
 "nbformat": 4,
 "nbformat_minor": 5
}
