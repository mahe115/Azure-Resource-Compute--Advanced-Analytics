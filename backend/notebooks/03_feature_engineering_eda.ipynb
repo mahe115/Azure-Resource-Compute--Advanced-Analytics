{
 "cells": [
  {
   "cell_type": "code",
   "execution_count": null,
   "id": "4cd3cc4f",
   "metadata": {},
   "outputs": [
    {
     "ename": "ModuleNotFoundError",
     "evalue": "No module named 'backend.scripts'",
     "output_type": "error",
     "traceback": [
      "\u001b[31m---------------------------------------------------------------------------\u001b[39m",
      "\u001b[31mModuleNotFoundError\u001b[39m                       Traceback (most recent call last)",
      "\u001b[36mCell\u001b[39m\u001b[36m \u001b[39m\u001b[32mIn[1]\u001b[39m\u001b[32m, line 2\u001b[39m\n\u001b[32m      1\u001b[39m \u001b[38;5;66;03m# 03_feature_engineering_eda.ipynb\u001b[39;00m\n\u001b[32m----> \u001b[39m\u001b[32m2\u001b[39m \u001b[38;5;28;01mfrom\u001b[39;00m\u001b[38;5;250m \u001b[39m\u001b[34;01mbackend\u001b[39;00m\u001b[34;01m.\u001b[39;00m\u001b[34;01mscripts\u001b[39;00m\u001b[34;01m.\u001b[39;00m\u001b[34;01mutils\u001b[39;00m\u001b[38;5;250m \u001b[39m\u001b[38;5;28;01mimport\u001b[39;00m add_time_features, add_lag_roll_features, add_ratio_features, save_df\n\u001b[32m      3\u001b[39m \u001b[38;5;28;01mimport\u001b[39;00m\u001b[38;5;250m \u001b[39m\u001b[34;01mpandas\u001b[39;00m\u001b[38;5;250m \u001b[39m\u001b[38;5;28;01mas\u001b[39;00m\u001b[38;5;250m \u001b[39m\u001b[34;01mpd\u001b[39;00m\n\u001b[32m      4\u001b[39m \u001b[38;5;28;01mfrom\u001b[39;00m\u001b[38;5;250m \u001b[39m\u001b[34;01mpathlib\u001b[39;00m\u001b[38;5;250m \u001b[39m\u001b[38;5;28;01mimport\u001b[39;00m Path\n",
      "\u001b[31mModuleNotFoundError\u001b[39m: No module named 'backend.scripts'"
     ]
    }
   ],
   "source": [
    "# 03_feature_engineering_eda.ipynb\n",
    "\n",
    "import sys\n",
    "from pathlib import Path\n",
    "import pandas as pd\n",
    "\n",
    "# --- Fix Python path so we can import from scripts/ ---\n",
    "# Current working dir = backend/notebooks/\n",
    "# Go up one level → backend/\n",
    "project_root = Path.cwd().parent\n",
    "sys.path.append(str(project_root))\n",
    "\n",
    "from scripts.utils import add_time_features, add_lag_roll_features, add_ratio_features, save_df\n",
    "\n",
    "# --- Paths ---\n",
    "PROC = project_root / \"data\" / \"processed\"\n",
    "\n",
    "# --- Load cleaned data ---\n",
    "df = pd.read_csv(PROC / \"cleaned_merged.csv\", parse_dates=['date'])\n",
    "\n",
    "# --- Feature Engineering ---\n",
    "df = add_time_features(df, date_col='date')\n",
    "df = add_lag_roll_features(df, groupby_cols=['region'], target_col='usage_cpu')\n",
    "df = add_ratio_features(df)\n",
    "\n",
    "# Handle any missing values created by lag/rolling features\n",
    "df = df.fillna(method='ffill').fillna(method='bfill')\n",
    "\n",
    "# --- Save ---\n",
    "save_df(df, PROC / \"feature_engineered.csv\")\n",
    "print(\"✅ Saved feature_engineered.csv with shape:\", df.shape)\n"
   ]
  },
  {
   "cell_type": "code",
   "execution_count": null,
   "id": "45f5baa8",
   "metadata": {},
   "outputs": [],
   "source": [
    "# EDA plots\n",
    "import matplotlib.pyplot as plt\n",
    "import seaborn as sns\n",
    "\n",
    "df = pd.read_csv(PROC/\"feature_engineered.csv\", parse_dates=['date'])\n",
    "# correlation heatmap (select numeric)\n",
    "num_cols = df.select_dtypes(include='number').columns\n",
    "plt.figure(figsize=(12,10))\n",
    "sns.heatmap(df[num_cols].corr(), annot=False, cmap='coolwarm')\n",
    "plt.title(\"Feature Correlation Heatmap\")\n",
    "plt.show()\n",
    "\n",
    "# Boxplot region-wise\n",
    "plt.figure(figsize=(12,6))\n",
    "sns.boxplot(x='region', y='usage_cpu', data=df)\n",
    "plt.xticks(rotation=45)\n",
    "plt.title(\"Region-wise CPU usage distribution\")\n",
    "plt.show()\n"
   ]
  }
 ],
 "metadata": {
  "kernelspec": {
   "display_name": "Python 3",
   "language": "python",
   "name": "python3"
  },
  "language_info": {
   "codemirror_mode": {
    "name": "ipython",
    "version": 3
   },
   "file_extension": ".py",
   "mimetype": "text/x-python",
   "name": "python",
   "nbconvert_exporter": "python",
   "pygments_lexer": "ipython3",
   "version": "3.13.3"
  }
 },
 "nbformat": 4,
 "nbformat_minor": 5
}
