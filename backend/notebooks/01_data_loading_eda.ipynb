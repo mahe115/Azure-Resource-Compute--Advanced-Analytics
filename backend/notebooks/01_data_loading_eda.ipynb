{
 "cells": [
  {
   "cell_type": "code",
   "execution_count": null,
   "id": "4141cd75",
   "metadata": {},
   "outputs": [
    {
     "ename": "ModuleNotFoundError",
     "evalue": "No module named 'backend'",
     "output_type": "error",
     "traceback": [
      "\u001b[31m---------------------------------------------------------------------------\u001b[39m",
      "\u001b[31mModuleNotFoundError\u001b[39m                       Traceback (most recent call last)",
      "\u001b[36mCell\u001b[39m\u001b[36m \u001b[39m\u001b[32mIn[18]\u001b[39m\u001b[32m, line 9\u001b[39m\n\u001b[32m      7\u001b[39m \u001b[38;5;28;01mimport\u001b[39;00m\u001b[38;5;250m \u001b[39m\u001b[34;01mseaborn\u001b[39;00m\u001b[38;5;250m \u001b[39m\u001b[38;5;28;01mas\u001b[39;00m\u001b[38;5;250m \u001b[39m\u001b[34;01msns\u001b[39;00m\n\u001b[32m      8\u001b[39m \u001b[38;5;28;01mfrom\u001b[39;00m\u001b[38;5;250m \u001b[39m\u001b[34;01mpathlib\u001b[39;00m\u001b[38;5;250m \u001b[39m\u001b[38;5;28;01mimport\u001b[39;00m Path\n\u001b[32m----> \u001b[39m\u001b[32m9\u001b[39m \u001b[38;5;28;01mfrom\u001b[39;00m\u001b[38;5;250m \u001b[39m\u001b[34;01mbackend\u001b[39;00m\u001b[34;01m.\u001b[39;00m\u001b[34;01mscripts\u001b[39;00m\u001b[34;01m.\u001b[39;00m\u001b[34;01mutils\u001b[39;00m\u001b[38;5;250m \u001b[39m\u001b[38;5;28;01mimport\u001b[39;00m load_csv, basic_cleaning\n\u001b[32m     12\u001b[39m RAW = Path(\u001b[33m\"\u001b[39m\u001b[33mbackend/data/raw\u001b[39m\u001b[33m\"\u001b[39m)\n\u001b[32m     13\u001b[39m azure = load_csv(RAW/\u001b[33m\"\u001b[39m\u001b[33mazure_usage.csv\u001b[39m\u001b[33m\"\u001b[39m)\n",
      "\u001b[31mModuleNotFoundError\u001b[39m: No module named 'backend'"
     ]
    }
   ],
   "source": [
    "# 01_data_loading_eda.ipynb — Cell 1\n",
    "\n",
    "import sys\n",
    "import os\n",
    "import pandas as pd\n",
    "import numpy as np\n",
    "import matplotlib.pyplot as plt\n",
    "import seaborn as sns\n",
    "from pathlib import Path\n",
    "\n",
    "# make sure Python can see the parent directory (backend/)\n",
    "sys.path.append(os.path.abspath(os.path.join(os.getcwd(), \"..\")))\n",
    "\n",
    "from scripts.utils import load_csv, basic_cleaning\n",
    "\n",
    "RAW = Path(\"../data/raw\")   # go up one level from notebooks/ to backend/, then into data/raw\n",
    "azure = load_csv(RAW / \"azure_usage.csv\")\n",
    "external = load_csv(RAW / \"external_factors.csv\")\n",
    "\n",
    "print(\"Azure shape:\", azure.shape)\n",
    "print(\"External shape:\", external.shape)\n"
   ]
  },
  {
   "cell_type": "code",
   "execution_count": null,
   "id": "f05e161c",
   "metadata": {},
   "outputs": [],
   "source": [
    "# Cell 2\n",
    "display(azure.head())\n",
    "display(azure.info())\n",
    "display(azure.describe(include='all'))\n",
    "display(external.head())\n"
   ]
  },
  {
   "cell_type": "code",
   "execution_count": null,
   "id": "86a5323a",
   "metadata": {},
   "outputs": [],
   "source": [
    "# Cell 3\n",
    "print(\"Missing in azure:\\n\", azure.isna().sum())\n",
    "print(\"Missing in external:\\n\", external.isna().sum())\n",
    "\n",
    "# Example plot: total CPU usage over time\n",
    "if 'date' in azure.columns and 'usage_cpu' in azure.columns:\n",
    "    azure['date'] = pd.to_datetime(azure['date'])\n",
    "    azure = azure.sort_values('date')\n",
    "    plt.figure(figsize=(12,4))\n",
    "    sns.lineplot(data=azure.groupby('date')['usage_cpu'].mean().reset_index(), x='date', y='usage_cpu')\n",
    "    plt.title(\"Average CPU usage over time\")\n",
    "    plt.show()\n"
   ]
  }
 ],
 "metadata": {
  "kernelspec": {
   "display_name": "Python 3",
   "language": "python",
   "name": "python3"
  },
  "language_info": {
   "codemirror_mode": {
    "name": "ipython",
    "version": 3
   },
   "file_extension": ".py",
   "mimetype": "text/x-python",
   "name": "python",
   "nbconvert_exporter": "python",
   "pygments_lexer": "ipython3",
   "version": "3.13.3"
  }
 },
 "nbformat": 4,
 "nbformat_minor": 5
}
